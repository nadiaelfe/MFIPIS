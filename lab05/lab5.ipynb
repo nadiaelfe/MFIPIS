{
 "cells": [
  {
   "cell_type": "code",
   "execution_count": 1,
   "id": "b97bf997-40e9-4eff-bb88-9ee1e0164507",
   "metadata": {},
   "outputs": [],
   "source": [
    "import random"
   ]
  },
  {
   "cell_type": "code",
   "execution_count": 17,
   "id": "c2c26174-a65f-4c0f-af4c-80d08d7a65fa",
   "metadata": {},
   "outputs": [],
   "source": [
    "def fermat_test(n, iterations=5):\n",
    "    for _ in range(iterations):\n",
    "        a = random.randint(2, n - 1)\n",
    "        if pow(a, n - 1, n) != 1:\n",
    "            print(\"составное\")\n",
    "            return False\n",
    "    print(\"Вероятно, Простое\")\n",
    "    return True"
   ]
  },
  {
   "cell_type": "code",
   "execution_count": 18,
   "id": "7b83b0c9-e155-41c4-95e1-9c73d45701c0",
   "metadata": {},
   "outputs": [],
   "source": [
    "def jacobi_symbol(a, n):\n",
    "    if a == 0:\n",
    "        return 0\n",
    "    result = 1\n",
    "    if a < 0:\n",
    "        a = -a\n",
    "        if n % 4 == 3:\n",
    "            result = -result\n",
    "    \n",
    "    a %= n\n",
    "    if a == 1:\n",
    "        return result\n",
    "    \n",
    "    while a:\n",
    "        if a < 0:\n",
    "            a = -a\n",
    "            if n % 4 == 3:\n",
    "                result = -result\n",
    "        while a % 2 == 0:\n",
    "            a //= 2\n",
    "            if n % 8 in [3, 5]:\n",
    "                result = -result\n",
    "        a, n = n, a\n",
    "        if a % 4 == 3 and n % 4 == 3:\n",
    "            result = -result\n",
    "        a %= n\n",
    "        if a > n // 2:\n",
    "            a -= n\n",
    "    \n",
    "    return result if n == 1 else 0"
   ]
  },
  {
   "cell_type": "code",
   "execution_count": 19,
   "id": "faa6ce11-06fd-4cdc-be69-0439397d6e5c",
   "metadata": {},
   "outputs": [],
   "source": [
    "def solovay_strassen(p, iterations=5):\n",
    "    if p < 2 or (p > 2 and p % 2 == 0):\n",
    "        print(\"составное\")\n",
    "        return False\n",
    "\n",
    "    for _ in range(iterations):\n",
    "        a = random.randint(1, p - 1)\n",
    "        jacobian = (p + jacobi_symbol(a, p)) % p\n",
    "        mod = pow(a, (p - 1) // 2, p)\n",
    "        \n",
    "        if jacobian == 0 or mod != jacobian:\n",
    "            print(\"составное\")\n",
    "            return False\n",
    "\n",
    "    print(\"Вероятно, Простое\")\n",
    "    return True"
   ]
  },
  {
   "cell_type": "code",
   "execution_count": 20,
   "id": "1a9fd151-7d1e-4296-9e2c-6162841b02ed",
   "metadata": {},
   "outputs": [],
   "source": [
    "def miller_rabin(n, iterations=5):\n",
    "    if n <= 1 or n == 4 or n == 6 or n == 8 or n == 9:\n",
    "        print(\"составное\")\n",
    "        return False\n",
    "    if n in {2, 3, 5, 7}:\n",
    "        print(\"Prime\")\n",
    "        return True\n",
    "\n",
    "    s, d = 0, n - 1\n",
    "    while d % 2 == 0:\n",
    "        d //= 2\n",
    "        s += 1\n",
    "\n",
    "    def trial_composite(a):\n",
    "        if pow(a, d, n) == 1:\n",
    "            return False\n",
    "        for i in range(s):\n",
    "            if pow(a, (2 ** i) * d, n) == n - 1:\n",
    "                return False\n",
    "        return True\n",
    "\n",
    "    for _ in range(iterations):\n",
    "        a = random.randint(2, n - 1)\n",
    "        if trial_composite(a):\n",
    "            print(\"составное\")\n",
    "            return False\n",
    "\n",
    "    print(\"Вероятно, Простое\")\n",
    "    return True"
   ]
  },
  {
   "cell_type": "code",
   "execution_count": 21,
   "id": "32f7c46f-7555-48b6-a70e-7fd8c6a60b62",
   "metadata": {},
   "outputs": [
    {
     "name": "stdout",
     "output_type": "stream",
     "text": [
      "Тест Ферма:\n",
      "Вероятно, Простое\n",
      "Тест Соловея-Штрассена:\n",
      "Вероятно, Простое\n",
      "Тест Миллера-Рабина:\n",
      "Вероятно, Простое\n"
     ]
    },
    {
     "data": {
      "text/plain": [
       "True"
      ]
     },
     "execution_count": 21,
     "metadata": {},
     "output_type": "execute_result"
    }
   ],
   "source": [
    "n = 31  # Простое число\n",
    "\n",
    "print(\"Тест Ферма:\")\n",
    "fermat_test(n, 50)\n",
    "\n",
    "print(\"Тест Соловея-Штрассена:\")\n",
    "solovay_strassen(n, 50)\n",
    "\n",
    "print(\"Тест Миллера-Рабина:\")\n",
    "miller_rabin(n, 50)"
   ]
  },
  {
   "cell_type": "markdown",
   "id": "83d861a9-974b-4256-81d4-51769a035fcc",
   "metadata": {},
   "source": [
    "Мы получили результат «Probably Prime» от тестов Ферма, Соловья-Страссена и Миллера-Рабина, что вполне ожидаемо, поскольку все три теста являются вероятностными и могут давать результат «вероятно простое». Последний результат, True, выдается тестом Миллера-Рабина, когда он определяет, что число, скорее всего, простое."
   ]
  },
  {
   "cell_type": "markdown",
   "id": "b9d1a153-8245-4a1e-a024-9f33792a95ae",
   "metadata": {},
   "source": [
    "## Объяснение результатов:\n",
    "1. Тест Ферма:\n",
    "Тест Ферма говорит \"Вероятно, Простое\", если не было найдено контрпримеров. Это вероятностный тест, который проверяет случайные основания \n",
    "𝑎 для выражения 𝑎**(𝑛−1) mod 𝑛 =1. Если проверка не проходит, число точно составное, но если проходит, это не гарантирует, что число простое (однако высока вероятность, что оно простое).\n",
    "\n",
    "2. Тест Соловея-Штрассена:\n",
    "Этот тест использует символ Якоби и аналогичную идею, как и тест Ферма. Если тест проходит все итерации, выводится \"Вероятно, Простое\", что означает высокую вероятность простоты числа, хотя оно может быть составным числом, которое случайно пройдет тест.\n",
    "\n",
    "3. Тест Миллера-Рабина:\n",
    "\n",
    "В нашем случае Тест Миллера-Рабина выводит True, что указывает на то, что число, скорее всего, простое, основываясь на количестве итераций, которое мы использовали.\n"
   ]
  },
  {
   "cell_type": "code",
   "execution_count": 22,
   "id": "c6554cc1-07b7-4fa7-a175-e66ef03af4cc",
   "metadata": {},
   "outputs": [
    {
     "name": "stdout",
     "output_type": "stream",
     "text": [
      "Тест Ферма:\n",
      "составное\n",
      "Тест Соловея-Штрассена:\n",
      "составное\n",
      "Тест Миллера-Рабина:\n",
      "составное\n"
     ]
    },
    {
     "data": {
      "text/plain": [
       "False"
      ]
     },
     "execution_count": 22,
     "metadata": {},
     "output_type": "execute_result"
    }
   ],
   "source": [
    "n = 561  # Это составное число, но оно проходит тест Ферма\n",
    "\n",
    "# Проверим его с использованием более строгого теста с большим количеством итераций\n",
    "print(\"Тест Ферма:\")\n",
    "fermat_test(n, 20)\n",
    "\n",
    "print(\"Тест Соловея-Штрассена:\")\n",
    "solovay_strassen(n, 20)\n",
    "\n",
    "print(\"Тест Миллера-Рабина:\")\n",
    "miller_rabin(n, 20)"
   ]
  },
  {
   "cell_type": "code",
   "execution_count": 23,
   "id": "3272b109-dd0d-4635-9b80-1235fc5edf0a",
   "metadata": {},
   "outputs": [
    {
     "name": "stdout",
     "output_type": "stream",
     "text": [
      "составное\n",
      "составное\n",
      "составное\n"
     ]
    },
    {
     "data": {
      "text/plain": [
       "False"
      ]
     },
     "execution_count": 23,
     "metadata": {},
     "output_type": "execute_result"
    }
   ],
   "source": [
    "n = 561  # Составное число, которое может пройти тесты Ферма\n",
    "fermat_test(n, iterations=50)  # Используем большее количество итераций\n",
    "solovay_strassen(n, iterations=50)\n",
    "miller_rabin(n, iterations=50)"
   ]
  }
 ],
 "metadata": {
  "kernelspec": {
   "display_name": "Python 3 (ipykernel)",
   "language": "python",
   "name": "python3"
  },
  "language_info": {
   "codemirror_mode": {
    "name": "ipython",
    "version": 3
   },
   "file_extension": ".py",
   "mimetype": "text/x-python",
   "name": "python",
   "nbconvert_exporter": "python",
   "pygments_lexer": "ipython3",
   "version": "3.11.5"
  }
 },
 "nbformat": 4,
 "nbformat_minor": 5
}
