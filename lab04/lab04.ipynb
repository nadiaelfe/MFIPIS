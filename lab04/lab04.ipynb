{
 "cells": [
  {
   "cell_type": "code",
   "execution_count": 7,
   "id": "b0d5b69d-da0f-4e40-a3a2-60ededb71f72",
   "metadata": {},
   "outputs": [
    {
     "name": "stdin",
     "output_type": "stream",
     "text": [
      "Введите значение a:  48\n",
      "Введите значение b:  12\n"
     ]
    },
    {
     "name": "stdout",
     "output_type": "stream",
     "text": [
      "Начальные значения: r_0 = 48, r_1 = 12\n",
      "Итерация 1: r_0 = 48, r_1 = 12, остаток r_next = 0\n",
      "Остаток равен 0. НОД найден: 12\n",
      "НОД чисел 48 и 12 = 12\n"
     ]
    }
   ],
   "source": [
    "# Функция для нахождения НОД с использованием алгоритма Евклида\n",
    "def gcd(a, b):\n",
    "    # Инициализация r_0 и r_1\n",
    "    r_0 = a\n",
    "    r_1 = b\n",
    "    i = 1  # Счётчик итераций\n",
    "    \n",
    "    print(f\"Начальные значения: r_0 = {r_0}, r_1 = {r_1}\")\n",
    "    \n",
    "    while True:\n",
    "        # Найти остаток r_(i+1)\n",
    "        r_next = r_0 % r_1\n",
    "        print(f\"Итерация {i}: r_0 = {r_0}, r_1 = {r_1}, остаток r_next = {r_next}\")\n",
    "        \n",
    "        if r_next == 0:\n",
    "            print(f\"Остаток равен 0. НОД найден: {r_1}\")\n",
    "            return r_1\n",
    "        else:\n",
    "            # Обновить значения для следующей итерации\n",
    "            r_0 = r_1\n",
    "            r_1 = r_next\n",
    "            i += 1\n",
    "\n",
    "# Ввод значений\n",
    "a = int(input(\"Введите значение a: \"))\n",
    "b = int(input(\"Введите значение b: \"))\n",
    "\n",
    "# Вызов функции gcd и вывод результата\n",
    "d = gcd(a, b)\n",
    "print(f\"НОД чисел {a} и {b} = {d}\")\n"
   ]
  },
  {
   "cell_type": "code",
   "execution_count": 8,
   "id": "5d2a1491-26ea-478f-948b-fb60fbbff433",
   "metadata": {},
   "outputs": [
    {
     "name": "stdin",
     "output_type": "stream",
     "text": [
      "Введите значение a:  48\n",
      "Введите значение b:  12\n"
     ]
    },
    {
     "name": "stdout",
     "output_type": "stream",
     "text": [
      "Делим оба числа на 2: a = 24, b = 6, g = 2\n",
      "Делим оба числа на 2: a = 12, b = 3, g = 4\n",
      "Делим u на 2: u = 6\n",
      "Делим u на 2: u = 3\n",
      "Вычитаем v из u: u = 0\n",
      "НОД найден: НОД = 12\n",
      "НОД чисел 48 и 12 = 12\n"
     ]
    }
   ],
   "source": [
    "# Бинарный алгоритм Евклида для нахождения НОД\n",
    "def binary_gcd(a, b):\n",
    "    g = 1\n",
    "    \n",
    "    # Делим оба числа на 2, пока хотя бы одно из них не станет нечётным\n",
    "    while a % 2 == 0 and b % 2 == 0:\n",
    "        a //= 2\n",
    "        b //= 2\n",
    "        g *= 2\n",
    "        print(f\"Делим оба числа на 2: a = {a}, b = {b}, g = {g}\")\n",
    "    \n",
    "    u, v = a, b\n",
    "    while u != 0:\n",
    "        # Делим u на 2, пока оно не станет нечётным\n",
    "        while u % 2 == 0:\n",
    "            u //= 2\n",
    "            print(f\"Делим u на 2: u = {u}\")\n",
    "        \n",
    "        # Делим v на 2, пока оно не станет нечётным\n",
    "        while v % 2 == 0:\n",
    "            v //= 2\n",
    "            print(f\"Делим v на 2: v = {v}\")\n",
    "        \n",
    "        # Вычитаем меньшее из большего\n",
    "        if u >= v:\n",
    "            u -= v\n",
    "            print(f\"Вычитаем v из u: u = {u}\")\n",
    "        else:\n",
    "            v -= u\n",
    "            print(f\"Вычитаем u из v: v = {v}\")\n",
    "    \n",
    "    # Восстанавливаем НОД с учётом множителя g\n",
    "    d = g * v\n",
    "    print(f\"НОД найден: НОД = {d}\")\n",
    "    return d\n",
    "\n",
    "# Ввод значений\n",
    "a = int(input(\"Введите значение a: \"))\n",
    "b = int(input(\"Введите значение b: \"))\n",
    "\n",
    "# Вызов функции binary_gcd и вывод результата\n",
    "d = binary_gcd(a, b)\n",
    "print(f\"НОД чисел {a} и {b} = {d}\")"
   ]
  },
  {
   "cell_type": "code",
   "execution_count": 9,
   "id": "49caeece-042a-4ef1-8e53-628996f9bdd0",
   "metadata": {},
   "outputs": [
    {
     "name": "stdin",
     "output_type": "stream",
     "text": [
      "Введите значение a:  48\n",
      "Введите значение b:  12\n"
     ]
    },
    {
     "name": "stdout",
     "output_type": "stream",
     "text": [
      "Итерация 1: q = 4, r_next = 0, r0 = 48, r1 = 12\n",
      "НОД найден: d = 12, x = 0, y = 1\n",
      "НОД чисел 48 и 12 = 12, коэффициенты: x = 0, y = 1\n"
     ]
    }
   ],
   "source": [
    "# Расширенный алгоритм Евклида для нахождения НОД и коэффициентов x и y\n",
    "def extended_euclidean(a, b):\n",
    "    r0, r1 = a, b\n",
    "    x0, x1 = 1, 0\n",
    "    y0, y1 = 0, 1\n",
    "    i = 1  # Счетчик итераций\n",
    "    \n",
    "    while True:\n",
    "        # Делим r_(i-1) на r_i, чтобы получить частное q и остаток r_(i+1)\n",
    "        q = r0 // r1\n",
    "        r_next = r0 - q * r1  # Остаток r_(i+1)\n",
    "        print(f\"Итерация {i}: q = {q}, r_next = {r_next}, r0 = {r0}, r1 = {r1}\")\n",
    "\n",
    "        # Проверка на окончание: если остаток равен 0, НОД найден\n",
    "        if r_next == 0:\n",
    "            d, x, y = r1, x1, y1\n",
    "            print(f\"НОД найден: d = {d}, x = {x}, y = {y}\")\n",
    "            return d, x, y\n",
    "\n",
    "        # Обновляем x и y для следующей итерации\n",
    "        x_next = x0 - q * x1\n",
    "        y_next = y0 - q * y1\n",
    "        print(f\"x_next = {x_next}, y_next = {y_next}\")\n",
    "\n",
    "        # Подготовка к следующей итерации\n",
    "        r0, r1 = r1, r_next\n",
    "        x0, x1 = x1, x_next\n",
    "        y0, y1 = y1, y_next\n",
    "        i += 1\n",
    "\n",
    "# Ввод значений\n",
    "a = int(input(\"Введите значение a: \"))\n",
    "b = int(input(\"Введите значение b: \"))\n",
    "\n",
    "# Вызов функции extended_euclidean и вывод результата\n",
    "d, x, y = extended_euclidean(a, b)\n",
    "print(f\"НОД чисел {a} и {b} = {d}, коэффициенты: x = {x}, y = {y}\")"
   ]
  },
  {
   "cell_type": "code",
   "execution_count": 10,
   "id": "780a2cc5-a743-4079-9a44-71724504d900",
   "metadata": {},
   "outputs": [
    {
     "name": "stdin",
     "output_type": "stream",
     "text": [
      "Введите значение a:  48\n",
      "Введите значение b:  12\n"
     ]
    },
    {
     "name": "stdout",
     "output_type": "stream",
     "text": [
      "Делим оба числа на 2: a = 24, b = 6, g = 2\n",
      "Делим оба числа на 2: a = 12, b = 3, g = 4\n",
      "Делим u и коэффициенты: u = 6, A = 2, B = -6\n",
      "Делим u и коэффициенты: u = 3, A = 1, B = -3\n",
      "u >= v: u = 0, A = 1, B = -4\n",
      "НОД найден: d = 12, x = 0, y = 1\n",
      "НОД чисел 48 и 12 = 12, коэффициенты: x = 0, y = 1\n"
     ]
    }
   ],
   "source": [
    "# Расширенный бинарный алгоритм Евклида для нахождения НОД и коэффициентов x и y\n",
    "def binary_extended(a, b):\n",
    "    g = 1\n",
    "    \n",
    "    # Делим оба числа на 2, пока оба четные\n",
    "    while a % 2 == 0 and b % 2 == 0:\n",
    "        a //= 2\n",
    "        b //= 2\n",
    "        g *= 2\n",
    "        print(f\"Делим оба числа на 2: a = {a}, b = {b}, g = {g}\")\n",
    "    \n",
    "    u, v = a, b\n",
    "    A, B, C, D = 1, 0, 0, 1\n",
    "    \n",
    "    # Основной цикл\n",
    "    while u != 0:\n",
    "        # Делим u на 2, пока оно не станет нечётным\n",
    "        while u % 2 == 0:\n",
    "            u //= 2\n",
    "            if A % 2 == 0 and B % 2 == 0:\n",
    "                A //= 2\n",
    "                B //= 2\n",
    "            else:\n",
    "                A = (A + b) // 2\n",
    "                B = (B - a) // 2\n",
    "            print(f\"Делим u и коэффициенты: u = {u}, A = {A}, B = {B}\")\n",
    "\n",
    "        # Делим v на 2, пока оно не станет нечётным\n",
    "        while v % 2 == 0:\n",
    "            v //= 2\n",
    "            if C % 2 == 0 and D % 2 == 0:\n",
    "                C //= 2\n",
    "                D //= 2\n",
    "            else:\n",
    "                C = (C + b) // 2\n",
    "                D = (D - a) // 2\n",
    "            print(f\"Делим v и коэффициенты: v = {v}, C = {C}, D = {D}\")\n",
    "\n",
    "        # Вычитаем меньшее из большего и обновляем коэффициенты\n",
    "        if u >= v:\n",
    "            u -= v\n",
    "            A -= C\n",
    "            B -= D\n",
    "            print(f\"u >= v: u = {u}, A = {A}, B = {B}\")\n",
    "        else:\n",
    "            v -= u\n",
    "            C -= A\n",
    "            D -= B\n",
    "            print(f\"v > u: v = {v}, C = {C}, D = {D}\")\n",
    "    \n",
    "    # Восстанавливаем НОД с учётом множителя g\n",
    "    d = g * v\n",
    "    x, y = C, D\n",
    "    print(f\"НОД найден: d = {d}, x = {x}, y = {y}\")\n",
    "    return d, x, y\n",
    "\n",
    "# Ввод значений\n",
    "a = int(input(\"Введите значение a: \"))\n",
    "b = int(input(\"Введите значение b: \"))\n",
    "\n",
    "# Вызов функции binary_extended и вывод результата\n",
    "d, x, y = binary_extended(a, b)\n",
    "print(f\"НОД чисел {a} и {b} = {d}, коэффициенты: x = {x}, y = {y}\")"
   ]
  },
  {
   "cell_type": "code",
   "execution_count": null,
   "id": "cca79b66-92f0-4f35-a1c4-f20c41ecc0bc",
   "metadata": {},
   "outputs": [],
   "source": []
  }
 ],
 "metadata": {
  "kernelspec": {
   "display_name": "Python 3 (ipykernel)",
   "language": "python",
   "name": "python3"
  },
  "language_info": {
   "codemirror_mode": {
    "name": "ipython",
    "version": 3
   },
   "file_extension": ".py",
   "mimetype": "text/x-python",
   "name": "python",
   "nbconvert_exporter": "python",
   "pygments_lexer": "ipython3",
   "version": "3.11.5"
  }
 },
 "nbformat": 4,
 "nbformat_minor": 5
}
